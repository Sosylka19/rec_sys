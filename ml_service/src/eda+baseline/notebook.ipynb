{
 "cells": [
  {
   "cell_type": "markdown",
   "id": "ac6be85a",
   "metadata": {},
   "source": [
    "## I would try content-based learning with sklearn"
   ]
  },
  {
   "cell_type": "markdown",
   "id": "18ffda68",
   "metadata": {},
   "source": []
  }
 ],
 "metadata": {
  "language_info": {
   "name": "python"
  }
 },
 "nbformat": 4,
 "nbformat_minor": 5
}
